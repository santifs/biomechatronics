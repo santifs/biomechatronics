{
  "nbformat": 4,
  "nbformat_minor": 0,
  "metadata": {
    "kernelspec": {
      "display_name": "Python 3",
      "language": "python",
      "name": "python3"
    },
    "language_info": {
      "codemirror_mode": {
        "name": "ipython",
        "version": 3
      },
      "file_extension": ".py",
      "mimetype": "text/x-python",
      "name": "python",
      "nbconvert_exporter": "python",
      "pygments_lexer": "ipython3",
      "version": "3.6.7"
    },
    "colab": {
      "name": "Directa_Alumnos (1).ipynb",
      "provenance": [],
      "collapsed_sections": [],
      "toc_visible": true,
      "include_colab_link": true
    }
  },
  "cells": [
    {
      "cell_type": "markdown",
      "metadata": {
        "id": "view-in-github",
        "colab_type": "text"
      },
      "source": [
        "<a href=\"https://colab.research.google.com/github/santifs/biomechatronics/blob/master/Kinematics.ipynb\" target=\"_parent\"><img src=\"https://colab.research.google.com/assets/colab-badge.svg\" alt=\"Open In Colab\"/></a>"
      ]
    },
    {
      "cell_type": "markdown",
      "metadata": {
        "id": "KveYv3NbMrmO",
        "colab_type": "text"
      },
      "source": [
        "# Alumno: Santiago Fernández Scagliusi"
      ]
    },
    {
      "cell_type": "markdown",
      "metadata": {
        "id": "g62goZfQd4A5",
        "colab_type": "text"
      },
      "source": [
        "# Cinemática (Práctica 1)"
      ]
    },
    {
      "cell_type": "markdown",
      "metadata": {
        "id": "3zMdxyppd4BI",
        "colab_type": "text"
      },
      "source": [
        "*Este documento es un cuaderno de jupyter/colab que representa el enunciado de la práctica 1.*\n",
        "\n",
        "*El alumno debe leer el enunciado, analizar cada parte (¿qué hace y por qué lo hace?) y rellenar los campos vacíos identificados bajo los epígrafes en rojo.*\n",
        "\n",
        "*Algunas tareas son cuestiones avanzadas que sólo pueden ser contestadas si se tiene una idea clara del problema tratado y con conocimiento de python suficiente. Es posible entregar el trabajo sin haber respondido a todas las preguntas propuestas.* \n",
        "\n",
        "*Se recuerda que está prohibido copiar las respuestas entre alumnos así como publicar enunciados o soluciones en foros. Recomendándose que las respuestas estén ampliamente justificadas para evitar coicidencias en las mismas.*\n",
        "\n",
        "*Una vez rellenado y ejecutado todos los campos, se deberá subir a la plataforma de enseñanza virtual el fichero ipynb completo, una copia en PDF (usando la opción de imprimir a archivo), y responder (si lo hubiera) a las preguntas presentes según las instrucciones presentes en el formulario de entrega que se habilitará al efecto.*\n",
        "\n",
        "*Recuerde ejecutar cada celda para poder ver sus resultados (o cargar sus variables)*"
      ]
    },
    {
      "cell_type": "markdown",
      "metadata": {
        "id": "ia_9mKAVd4BS",
        "colab_type": "text"
      },
      "source": [
        "En este cuaderno se va a trabajar con la cinemática de unos brazos articulados. \n",
        "\n",
        "El primer paso es importar las funciones de las librerías que nos van a ayudar en nuestras funciones."
      ]
    },
    {
      "cell_type": "code",
      "metadata": {
        "id": "EvVfE6VVd4Ba",
        "colab_type": "code",
        "colab": {}
      },
      "source": [
        "import numpy as np\n",
        "%matplotlib inline\n"
      ],
      "execution_count": null,
      "outputs": []
    },
    {
      "cell_type": "markdown",
      "metadata": {
        "id": "JtQI-JO7d4Bs",
        "colab_type": "text"
      },
      "source": [
        "## Definición de la matriz dh"
      ]
    },
    {
      "cell_type": "markdown",
      "metadata": {
        "id": "pvSI-IM9d4B3",
        "colab_type": "text"
      },
      "source": [
        "### <font color='red'>Escriba en la siguiente celda la función que define una matriz dh. Llame a esa función `dh`. No se le olvide ejecutar la celda para que la definición se cargue</font>"
      ]
    },
    {
      "cell_type": "code",
      "metadata": {
        "id": "BSce-tzzd4B-",
        "colab_type": "code",
        "colab": {}
      },
      "source": [
        "def dh(angulo:float,dx:float,dy:float):\n",
        "  return np.array([[np.cos(angulo), -np.sin(angulo), dx],\n",
        "                   [ np.sin(angulo), np.cos(angulo),dy],\n",
        "                   [ 0, 0, 1]])"
      ],
      "execution_count": null,
      "outputs": []
    },
    {
      "cell_type": "markdown",
      "metadata": {
        "id": "60C84wE9d4CM",
        "colab_type": "text"
      },
      "source": [
        "Verificación de que se ha definido correctamente la matriz dh. Ejecute la siguiente celda. Su resultado debe ser: \n",
        "\n",
        "`array([0.44321265, 0.67302333, 1.        ])`"
      ]
    },
    {
      "cell_type": "code",
      "metadata": {
        "id": "qyHSCb7Id4CR",
        "colab_type": "code",
        "colab": {
          "base_uri": "https://localhost:8080/",
          "height": 34
        },
        "outputId": "f277f464-c8cf-48bc-bd59-e30bc88cf60f"
      },
      "source": [
        "theta1 = np.deg2rad(30)\n",
        "theta2 = np.deg2rad(45)\n",
        "theta3 = np.deg2rad(40)\n",
        "\n",
        "t1 = dh(theta1,0,0)\n",
        "t2 = dh(theta2,0.45,0)\n",
        "t3 = dh(theta3,0.37,0)\n",
        "\n",
        "t1@t2@t3 @ [0.1,0.,1]\n"
      ],
      "execution_count": null,
      "outputs": [
        {
          "output_type": "execute_result",
          "data": {
            "text/plain": [
              "array([0.44321265, 0.67302333, 1.        ])"
            ]
          },
          "metadata": {
            "tags": []
          },
          "execution_count": 10
        }
      ]
    },
    {
      "cell_type": "markdown",
      "metadata": {
        "id": "jlX4MHovd4Cv",
        "colab_type": "text"
      },
      "source": [
        "## Cinemática inversa"
      ]
    },
    {
      "cell_type": "markdown",
      "metadata": {
        "id": "ULu2OFGHd4C2",
        "colab_type": "text"
      },
      "source": [
        "La cinemática inversa es un problema de optimización (búsqueda de un mínimo). Para poder abordarlo, importamos las funciones de optimización de `scipy` de python. Además importamos la librería `matplotlib` que nos permitirá realizar gráficos."
      ]
    },
    {
      "cell_type": "code",
      "metadata": {
        "id": "vxwiUPZxd4C8",
        "colab_type": "code",
        "colab": {}
      },
      "source": [
        "import scipy.optimize \n",
        "import matplotlib.pyplot as plt"
      ],
      "execution_count": null,
      "outputs": []
    },
    {
      "cell_type": "markdown",
      "metadata": {
        "id": "LjlO9ZJfd4DL",
        "colab_type": "text"
      },
      "source": [
        "El proceso de optimización pasa por un crear una función (tarea de la que se encarga `loss_generator`) cuyo valor tienda a cero cuanto más cerca estemos de el valor deseado. Dado que no tenemos una función de cinemática inversa analítica, lo que hacermos es para cada conjuntos de ángulos th1, th2, th3 calculamos la posición mediante cinemática directa y luego calculamos cómo de lejos hemos quedado de nuestro objetivo."
      ]
    },
    {
      "cell_type": "code",
      "metadata": {
        "id": "ij4vfQYed4DQ",
        "colab_type": "code",
        "colab": {}
      },
      "source": [
        "def loss_generator(posicion, angulo=0):\n",
        "    def f(x):\n",
        "        th1 = x[0]        # Obtiene angulos a partir de x\n",
        "        th2 = x[1]\n",
        "        th3 = x[2]\n",
        "    \n",
        "        t1 = dh(th1,0,0)     # Calcula matrices DH de cada articulación\n",
        "        t2 = dh(th2,0.45,0)\n",
        "        t3 = dh(th3,0.37,0)\n",
        "\n",
        "        output = (t1@t2@t3@[0.1,0.,1]) - np.array([posicion[0],posicion[1],1])  # Diferencia entre actual y objetivo. En [3] tenemos un 0\n",
        "        output =  output + np.array([0,0, th1+th2+th3 - angulo])  # Output contiene diferencia de x, y, angulo\n",
        "    \n",
        "        return output\n",
        "    return f\n",
        "    "
      ],
      "execution_count": null,
      "outputs": []
    },
    {
      "cell_type": "markdown",
      "metadata": {
        "id": "kp_wbciRd4Dk",
        "colab_type": "text"
      },
      "source": [
        "La función `articulaciones` nos permite calcular la posición de cada articulación para poder pintarla más adelante."
      ]
    },
    {
      "cell_type": "code",
      "metadata": {
        "id": "9Q8hOOCEd4Do",
        "colab_type": "code",
        "colab": {}
      },
      "source": [
        "def articulaciones(sol):\n",
        "    x = np.array([0.])\n",
        "    y = np.array([0.])\n",
        "\n",
        "    t12 = dh(sol[0],0.,0.)@dh(sol[1],0.45,0)\n",
        "    x = np.append(x,t12[0,2])   # Primera fila, tercera columna = dx\n",
        "    y = np.append(y,t12[1,2])   # Segunda fila, tercera columna = dy\n",
        "\n",
        "    t123 = t12@dh(sol[2],0.37,0.)\n",
        "    x = np.append(x,t123[0,2])\n",
        "    y = np.append(y,t123[1,2])\n",
        "\n",
        "    pos = t123@[0.1,0.,1]\n",
        "    x = np.append(x,pos[0])\n",
        "    y = np.append(y,pos[1])\n",
        "    \n",
        "    return x,y"
      ],
      "execution_count": null,
      "outputs": []
    },
    {
      "cell_type": "markdown",
      "metadata": {
        "id": "QxhFNYpkd4Dz",
        "colab_type": "text"
      },
      "source": [
        "En la siguiente celda se calcula la cinemática inversa para la posición (0.5, 0.6) y 90º en la aproximación del último eslabón."
      ]
    },
    {
      "cell_type": "code",
      "metadata": {
        "id": "i06UCfA6d4D4",
        "colab_type": "code",
        "colab": {
          "base_uri": "https://localhost:8080/",
          "height": 299
        },
        "outputId": "a5b816be-f265-429f-92c7-64d760f490a3"
      },
      "source": [
        "loss = loss_generator([0.5,0.60], np.deg2rad(90))\n",
        "sol = scipy.optimize.fsolve(loss,[np.deg2rad(0),np.deg2rad(0),np.deg2rad(0)])\n",
        "print('Ángulos en grados:',(sol*180/np.pi+180)%360-180)\n",
        "x,y=articulaciones(sol)\n",
        "plt.plot(x,y)"
      ],
      "execution_count": null,
      "outputs": [
        {
          "output_type": "stream",
          "text": [
            "Ángulos en grados: [ 72.28282764 -61.16543214  78.8826045 ]\n"
          ],
          "name": "stdout"
        },
        {
          "output_type": "execute_result",
          "data": {
            "text/plain": [
              "[<matplotlib.lines.Line2D at 0x7f2e48926438>]"
            ]
          },
          "metadata": {
            "tags": []
          },
          "execution_count": 14
        },
        {
          "output_type": "display_data",
          "data": {
            "image/png": "[encoded data removed]",
            "text/plain": [
              "<Figure size 432x288 with 1 Axes>"
            ]
          },
          "metadata": {
            "tags": [],
            "needs_background": "light"
          }
        }
      ]
    },
    {
      "cell_type": "markdown",
      "metadata": {
        "id": "j8SU9IKXd4EH",
        "colab_type": "text"
      },
      "source": [
        "## Tareas:"
      ]
    },
    {
      "cell_type": "markdown",
      "metadata": {
        "id": "tFVn3FtLd4EP",
        "colab_type": "text"
      },
      "source": [
        "### <font color='red'>Calcule los ángulos que llevan el extremo de la prótesis a la coordenada [0.5,0.5] con un ángulo de aproximación de 30 grados</font>\n"
      ]
    },
    {
      "cell_type": "code",
      "metadata": {
        "id": "TU-re_eRd4EU",
        "colab_type": "code",
        "colab": {
          "base_uri": "https://localhost:8080/",
          "height": 299
        },
        "outputId": "5b57751f-9f25-438c-eba1-fe7e981117d2"
      },
      "source": [
        "loss = loss_generator([0.5,0.5], np.deg2rad(30))\n",
        "sol = scipy.optimize.fsolve(loss,[np.deg2rad(0),np.deg2rad(0),np.deg2rad(0)])\n",
        "print('Ángulos en grados:',(sol*180/np.pi+180)%360-180)\n",
        "x,y=articulaciones(sol)\n",
        "plt.plot(x,y)"
      ],
      "execution_count": null,
      "outputs": [
        {
          "output_type": "stream",
          "text": [
            "Ángulos en grados: [ 10.38994156  84.14020763 -64.53014919]\n"
          ],
          "name": "stdout"
        },
        {
          "output_type": "execute_result",
          "data": {
            "text/plain": [
              "[<matplotlib.lines.Line2D at 0x7f2e483ed3c8>]"
            ]
          },
          "metadata": {
            "tags": []
          },
          "execution_count": 15
        },
        {
          "output_type": "display_data",
          "data": {
            "image/png": "[encoded data removed]",
            "text/plain": [
              "<Figure size 432x288 with 1 Axes>"
            ]
          },
          "metadata": {
            "tags": [],
            "needs_background": "light"
          }
        }
      ]
    },
    {
      "cell_type": "markdown",
      "metadata": {
        "id": "aD2Mokosd4Ei",
        "colab_type": "text"
      },
      "source": [
        "<font color='red'>Escribir aquí una explicación de lo hecho</font>"
      ]
    },
    {
      "cell_type": "markdown",
      "metadata": {
        "id": "EQDP1MLfd4El",
        "colab_type": "text"
      },
      "source": [
        "Primero, se le pasan a loss_generator los valores deseados de coordenadas y ángulo de aproximación, de forma que se calcula la diferencia entre los valores actuales y los objetivos.\n",
        "\n",
        "A continuación, se obtiene la solución de los ángulos mediante la reducción al mínimo de la diferencia mencionada anteriormente.\n",
        "Esta solución se pasa a grados y se imprime por pantalla.\n",
        "\n",
        "Finalmente, con la función \"articulaciones\" se obtienen los 4 puntos de cada eje (x, y) que se representan en la gráfica y que forman la solución del problema cinemático inverso"
      ]
    },
    {
      "cell_type": "markdown",
      "metadata": {
        "id": "nu3TzjeHd4Ep",
        "colab_type": "text"
      },
      "source": [
        "### <font color='red'>¿Qué ocurre si intentamos acceder a la posición [5,0.5]? </font>\n"
      ]
    },
    {
      "cell_type": "code",
      "metadata": {
        "id": "QTrEv48-d4Eu",
        "colab_type": "code",
        "colab": {
          "base_uri": "https://localhost:8080/",
          "height": 370
        },
        "outputId": "0b329bb8-01dc-4aa6-a8af-320a0503543b"
      },
      "source": [
        "loss = loss_generator([5,0.5], np.deg2rad(30))\n",
        "sol = scipy.optimize.fsolve(loss,[np.deg2rad(0),np.deg2rad(0),np.deg2rad(0)])\n",
        "print('Ángulos en grados:',(sol*180/np.pi+180)%360-180)\n",
        "x,y=articulaciones(sol)\n",
        "plt.plot(x,y)"
      ],
      "execution_count": null,
      "outputs": [
        {
          "output_type": "stream",
          "text": [
            "Ángulos en grados: [0. 0. 0.]\n"
          ],
          "name": "stdout"
        },
        {
          "output_type": "stream",
          "text": [
            "/usr/local/lib/python3.6/dist-packages/scipy/optimize/minpack.py:162: RuntimeWarning: The iteration is not making good progress, as measured by the \n",
            "  improvement from the last ten iterations.\n",
            "  warnings.warn(msg, RuntimeWarning)\n"
          ],
          "name": "stderr"
        },
        {
          "output_type": "execute_result",
          "data": {
            "text/plain": [
              "[<matplotlib.lines.Line2D at 0x7f2e48426a58>]"
            ]
          },
          "metadata": {
            "tags": []
          },
          "execution_count": 16
        },
        {
          "output_type": "display_data",
          "data": {
            "image/png": "[encoded data removed]",
            "text/plain": [
              "<Figure size 432x288 with 1 Axes>"
            ]
          },
          "metadata": {
            "tags": [],
            "needs_background": "light"
          }
        }
      ]
    },
    {
      "cell_type": "markdown",
      "metadata": {
        "id": "zjjx5f0Dd4E5",
        "colab_type": "text"
      },
      "source": [
        "<font color='red'>Interpreta el resultado</font>"
      ]
    },
    {
      "cell_type": "markdown",
      "metadata": {
        "id": "Zfj_gW8ad4E8",
        "colab_type": "text"
      },
      "source": [
        "Al principio del programa, al crear las matrices t1, t2, y t3, se ha definido la longitud de las barras: 0.45, 0.37, 0.1, por tanto, es imposible llegar a una posición más allá de 0.92 en el eje X"
      ]
    },
    {
      "cell_type": "markdown",
      "metadata": {
        "id": "Bgf9aH-vd4E-",
        "colab_type": "text"
      },
      "source": [
        "### <font color='red'>Supongase una articulación que no gira, sino que varía su longitud (un cilindro) Modifique el sistema para que considere esa posibilidad en la segunda articulación.</font>"
      ]
    },
    {
      "cell_type": "code",
      "metadata": {
        "id": "-t_3gyCpK0r-",
        "colab_type": "code",
        "colab": {}
      },
      "source": [
        "def loss_generator2(posicion, angulo=0):\n",
        "    def f(x):\n",
        "        th1 = x[0]        # Obtiene angulos a partir de x\n",
        "        th2 = 0\n",
        "        th3 = x[2]\n",
        "    \n",
        "        t1 = dh(th1,0,0)     # Calcula matrices DH de cada articulación\n",
        "        t2 = dh(0,x[1],0)\n",
        "        t3 = dh(th3,0.37,0)\n",
        "\n",
        "        output = (t1@t2@t3@[0.1,0.,1]) - np.array([posicion[0],posicion[1],1])  # Diferencia entre actual y objetivo. En [3] tenemos un 0\n",
        "        output =  output + np.array([0,0, th1+th2+th3 - angulo])  # Output contiene diferencia de x, y, angulo\n",
        "    \n",
        "        return output\n",
        "    return f"
      ],
      "execution_count": 29,
      "outputs": []
    },
    {
      "cell_type": "code",
      "metadata": {
        "id": "3YZlxxZDd4E_",
        "colab_type": "code",
        "colab": {}
      },
      "source": [
        "def articulaciones2(sol):\n",
        "    sol[1] = np.clip(sol[1], 0, 0.45)\n",
        "    x = np.array([0.])\n",
        "    y = np.array([0.])\n",
        "\n",
        "    t12 = dh(sol[0],0.,0.)@dh(0,sol[1],0)\n",
        "    x = np.append(x,t12[0,2])   # Primera fila, tercera columna = dx\n",
        "    y = np.append(y,t12[1,2])   # Segunda fila, tercera columna = dy\n",
        "\n",
        "    t123 = t12@dh(sol[2],0.37,0.)\n",
        "    x = np.append(x,t123[0,2])\n",
        "    y = np.append(y,t123[1,2])\n",
        "\n",
        "    pos = t123@[0.1,0.,1]\n",
        "    x = np.append(x,pos[0])\n",
        "    y = np.append(y,pos[1])\n",
        "    \n",
        "    return x,y"
      ],
      "execution_count": 30,
      "outputs": []
    },
    {
      "cell_type": "code",
      "metadata": {
        "id": "NrLnW5BqK2aF",
        "colab_type": "code",
        "colab": {
          "base_uri": "https://localhost:8080/",
          "height": 299
        },
        "outputId": "093deba8-4819-47fe-824a-81c5dcc5dd10"
      },
      "source": [
        "loss = loss_generator2([1,1], np.deg2rad(30))\n",
        "sol = scipy.optimize.fsolve(loss,[np.deg2rad(0),np.deg2rad(0),np.deg2rad(0)])\n",
        "print('Ángulos en grados:',(sol*180/np.pi+180)%360-180)\n",
        "x,y=articulaciones2(sol)\n",
        "plt.plot(x,y)"
      ],
      "execution_count": 33,
      "outputs": [
        {
          "output_type": "stream",
          "text": [
            "Ángulos en grados: [ 46.12531087  54.30924578 -16.12531087]\n"
          ],
          "name": "stdout"
        },
        {
          "output_type": "execute_result",
          "data": {
            "text/plain": [
              "[<matplotlib.lines.Line2D at 0x7f2e47e7fba8>]"
            ]
          },
          "metadata": {
            "tags": []
          },
          "execution_count": 33
        },
        {
          "output_type": "display_data",
          "data": {
            "image/png": "[encoded data removed]",
            "text/plain": [
              "<Figure size 432x288 with 1 Axes>"
            ]
          },
          "metadata": {
            "tags": [],
            "needs_background": "light"
          }
        }
      ]
    },
    {
      "cell_type": "markdown",
      "metadata": {
        "id": "tfKXRmGrd4FJ",
        "colab_type": "text"
      },
      "source": [
        "<font color='red'>Escribir aquí una explicación de lo hecho</font>"
      ]
    },
    {
      "cell_type": "markdown",
      "metadata": {
        "id": "2d2KEKn-d4FO",
        "colab_type": "text"
      },
      "source": [
        "En primer lugar, se cambia la función \"loss_generator2\" para imponer th2 = 0, así esta articulación no rota y se mantiene alineada con la anterior (par cilíndrico). Además, en t2 se cambian los datos que se envían a la matriz dh, de forma que la incógnita ahora es la posición en el eje X en vez de ser el ángulo. Es decir, x[1] se pasa como segundo argumento.\n",
        "\n",
        "Por otro lado, en la función \"articulaciones2\" se limita el valor de sol[1] al rango 0 - 0.45 mediante np.clip (si no la barra tendría longitud infinita). Por último, en t12 se cambian nuevamente los argumentos de dh, pasando ángulo 0 y posición en eje X como valor variable."
      ]
    },
    {
      "cell_type": "markdown",
      "metadata": {
        "id": "3UbG9jked4FT",
        "colab_type": "text"
      },
      "source": [
        "### <font color='red'>Añádase una articulación extra, e impongase que el ángulo th1 sea igual a th2.</font>"
      ]
    },
    {
      "cell_type": "code",
      "metadata": {
        "id": "0L555sw2d4FW",
        "colab_type": "code",
        "colab": {}
      },
      "source": [
        "def loss_generator3(posicion, angulo=0):\n",
        "    def f(x):\n",
        "        th2 = x[0]\n",
        "        th1 = th2        # Obtiene angulos a partir de x\n",
        "        th3 = x[1]\n",
        "        th4 = x[2]\n",
        "    \n",
        "        t1 = dh(th1,0,0)     # Calcula matrices DH de cada articulación\n",
        "        t2 = dh(th2,0.45,0)\n",
        "        t3 = dh(th3,0.37,0)\n",
        "        t4 = dh(th4,0.5,0)\n",
        "\n",
        "        output = (t1@t2@t3@t4@[0.1,0.,1]) - np.array([posicion[0],posicion[1],1])  # Diferencia entre actual y objetivo. En [3] tenemos un 0\n",
        "        output =  output + np.array([0,0, th1+th2+th3+th4 - angulo])  # Output contiene diferencia de x, y, angulo\n",
        "    \n",
        "        return output\n",
        "    return f"
      ],
      "execution_count": 77,
      "outputs": []
    },
    {
      "cell_type": "code",
      "metadata": {
        "id": "KcWawy9ay5G4",
        "colab_type": "code",
        "colab": {}
      },
      "source": [
        "def articulaciones3(sol):\n",
        "    x = np.array([0.])\n",
        "    y = np.array([0.])\n",
        "\n",
        "    t12 = dh(sol[0],0.,0.)@dh(sol[0],0.45,0)\n",
        "    x = np.append(x,t12[0,2])   # Primera fila, tercera columna = dx\n",
        "    y = np.append(y,t12[1,2])   # Segunda fila, tercera columna = dy\n",
        "\n",
        "    t123 = t12@dh(sol[1],0.37,0.)\n",
        "    x = np.append(x,t123[0,2])\n",
        "    y = np.append(y,t123[1,2])\n",
        "\n",
        "    t1234 = t123@dh(sol[2],0.5,0.)\n",
        "    x = np.append(x,t1234[0,2])\n",
        "    y = np.append(y,t1234[1,2])\n",
        "\n",
        "    pos = t1234@[0.1,0.,1]\n",
        "    x = np.append(x,pos[0])\n",
        "    y = np.append(y,pos[1])\n",
        "    \n",
        "    return x,y"
      ],
      "execution_count": 82,
      "outputs": []
    },
    {
      "cell_type": "code",
      "metadata": {
        "id": "LNqS6PGizJZL",
        "colab_type": "code",
        "colab": {
          "base_uri": "https://localhost:8080/",
          "height": 299
        },
        "outputId": "5b93d7a0-5c46-43db-a73a-4351c79374fa"
      },
      "source": [
        "loss = loss_generator3([0.7,0.7], np.deg2rad(30))\n",
        "sol = scipy.optimize.fsolve(loss,[np.deg2rad(0),np.deg2rad(0),np.deg2rad(0)])\n",
        "print('Ángulos en grados:',(sol*180/np.pi+180)%360-180)\n",
        "x,y=articulaciones3(sol)\n",
        "plt.plot(x,y)"
      ],
      "execution_count": 83,
      "outputs": [
        {
          "output_type": "stream",
          "text": [
            "Ángulos en grados: [  55.74213924 -119.09516166   37.61088318]\n"
          ],
          "name": "stdout"
        },
        {
          "output_type": "execute_result",
          "data": {
            "text/plain": [
              "[<matplotlib.lines.Line2D at 0x7f2e47e22dd8>]"
            ]
          },
          "metadata": {
            "tags": []
          },
          "execution_count": 83
        },
        {
          "output_type": "display_data",
          "data": {
            "image/png": "[encoded data removed]",
            "text/plain": [
              "<Figure size 432x288 with 1 Axes>"
            ]
          },
          "metadata": {
            "tags": [],
            "needs_background": "light"
          }
        }
      ]
    },
    {
      "cell_type": "markdown",
      "metadata": {
        "id": "-E2plHCdd4Fk",
        "colab_type": "text"
      },
      "source": [
        "<font color='red'>Escribir aquí una explicación de lo hecho</font>"
      ]
    },
    {
      "cell_type": "markdown",
      "metadata": {
        "id": "iiSnMVm2d4Fn",
        "colab_type": "text"
      },
      "source": [
        "Simplemente se creó un ángulo th4 con su respectiva matriz t4 en la función \"loss_generator3\" (con una longitud de barra arbitraria de 0.5), además de imponer que th1 = th2.\n",
        "Por otro lado, los valores que toma cada ángulo se han \"desplazado\" con respecto a las soluciones anteriores (es decir, th2 ahora toma x[0], th3 toma x[1]...)\n",
        "\n",
        "Por último en la función \"articulaciones3\" se ha añadido el cálculo correspondiente a esta nueva articulación."
      ]
    },
    {
      "cell_type": "markdown",
      "metadata": {
        "id": "SpQRKeG8d4Fq",
        "colab_type": "text"
      },
      "source": [
        "<font color='red'>¿Por qué es necesaria añadir una condición adicional si se incorpora una articulación extra?</font>\n",
        "\n"
      ]
    },
    {
      "cell_type": "markdown",
      "metadata": {
        "id": "T42HDdQYd4Fw",
        "colab_type": "text"
      },
      "source": [
        "La función fsolve requiere que el argumento de entrada sea del mismo tamaño que el de salida. El problema es que ahora tenemos 4 ángulos distintos, para 3 valores de salida (diferencia de coordenadas y ángulo), por tanto, fsolve devuelve un error de \"mismatch\" en la función \"f\" de \"loss_generator3\".\n",
        "\n",
        "Imponiendo la igualdad de th1 y th2 se resuelve este conflicto, ya que se vuelven a usar únicamente 3 ángulos."
      ]
    },
    {
      "cell_type": "markdown",
      "metadata": {
        "id": "NcYigwL2k1T5",
        "colab_type": "text"
      },
      "source": [
        "### <font color='red'>Considere que una articulación tiene un ángulo de giro limitado (expresado como la posición angular máxima y la mínima a la que puede acceder). Impleméntese todos los cambios necesarios para que se pueda efectuar los cálculo expresados de cinemática directa e inversa.</font>"
      ]
    },
    {
      "cell_type": "code",
      "metadata": {
        "id": "PdYRjLr5BPrk",
        "colab_type": "code",
        "colab": {}
      },
      "source": [
        "def loss_generator4(posicion, angulo=0):\n",
        "    def f(x):\n",
        "        x[0] = np.clip(x[0], 0, 0.4)\n",
        "        th1 = x[0]        # Obtiene angulos a partir de x\n",
        "        th2 = x[1]\n",
        "        th3 = x[2]\n",
        "    \n",
        "        t1 = dh(th1,0,0)     # Calcula matrices DH de cada articulación\n",
        "        t2 = dh(th2,0.45,0)\n",
        "        t3 = dh(th3,0.37,0)\n",
        "\n",
        "        output = (t1@t2@t3@[0.1,0.,1]) - np.array([posicion[0],posicion[1],1])  # Diferencia entre actual y objetivo. En [3] tenemos un 0\n",
        "        output =  output + np.array([0,0, th1+th2+th3 - angulo])  # Output contiene diferencia de x, y, angulo\n",
        "    \n",
        "        return output\n",
        "    return f"
      ],
      "execution_count": 149,
      "outputs": []
    },
    {
      "cell_type": "code",
      "metadata": {
        "id": "32N4KkkOBN3y",
        "colab_type": "code",
        "colab": {}
      },
      "source": [
        "def articulaciones4(sol):\n",
        "    #sol[0] = np.clip(sol[0], 0, 0.4)\n",
        "    x = np.array([0.])\n",
        "    y = np.array([0.])\n",
        "\n",
        "    t12 = dh(sol[0],0.,0.)@dh(sol[1],0.45,0)\n",
        "    x = np.append(x,t12[0,2])   # Primera fila, tercera columna = dx\n",
        "    y = np.append(y,t12[1,2])   # Segunda fila, tercera columna = dy\n",
        "\n",
        "    t123 = t12@dh(sol[2],0.37,0.)\n",
        "    x = np.append(x,t123[0,2])\n",
        "    y = np.append(y,t123[1,2])\n",
        "\n",
        "    pos = t123@[0.1,0.,1]\n",
        "    x = np.append(x,pos[0])\n",
        "    y = np.append(y,pos[1])\n",
        "    \n",
        "    return x,y"
      ],
      "execution_count": 150,
      "outputs": []
    },
    {
      "cell_type": "code",
      "metadata": {
        "id": "JZipvPhrmDUk",
        "colab_type": "code",
        "colab": {
          "base_uri": "https://localhost:8080/",
          "height": 371
        },
        "outputId": "bfa0d26e-7c03-4b31-8db7-34281ebefde8"
      },
      "source": [
        "loss = loss_generator4([0.2,0.5], np.deg2rad(30))\n",
        "sol = scipy.optimize.fsolve(loss,[np.deg2rad(0),np.deg2rad(0),np.deg2rad(0)])\n",
        "print('Ángulos en grados:',(sol*180/np.pi+180)%360-180)\n",
        "x,y=articulaciones4(sol)\n",
        "plt.plot(x,y)"
      ],
      "execution_count": 151,
      "outputs": [
        {
          "output_type": "stream",
          "text": [
            "Ángulos en grados: [  22.91831181  113.03391117 -105.61317254]\n"
          ],
          "name": "stdout"
        },
        {
          "output_type": "stream",
          "text": [
            "/usr/local/lib/python3.6/dist-packages/scipy/optimize/minpack.py:162: RuntimeWarning: The iteration is not making good progress, as measured by the \n",
            "  improvement from the last five Jacobian evaluations.\n",
            "  warnings.warn(msg, RuntimeWarning)\n"
          ],
          "name": "stderr"
        },
        {
          "output_type": "execute_result",
          "data": {
            "text/plain": [
              "[<matplotlib.lines.Line2D at 0x7f2e46dc1630>]"
            ]
          },
          "metadata": {
            "tags": []
          },
          "execution_count": 151
        },
        {
          "output_type": "display_data",
          "data": {
            "image/png": "[encoded data removed]",
            "text/plain": [
              "<Figure size 432x288 with 1 Axes>"
            ]
          },
          "metadata": {
            "tags": [],
            "needs_background": "light"
          }
        }
      ]
    },
    {
      "cell_type": "markdown",
      "metadata": {
        "id": "cespUNBvmMWz",
        "colab_type": "text"
      },
      "source": [
        "<font color='red'>Escribir aquí una explicación de lo hecho</font>"
      ]
    },
    {
      "cell_type": "markdown",
      "metadata": {
        "id": "XZOxeu_rmWxI",
        "colab_type": "text"
      },
      "source": [
        "En este caso, lo importante es el uso de la función \"np.clip\" que limita el valor del ángulo x[0] a un rango específico (por ejemplo, entre 0 y 0.4 radianes)."
      ]
    }
  ]
}